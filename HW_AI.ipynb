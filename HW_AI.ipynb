{
  "nbformat": 4,
  "nbformat_minor": 0,
  "metadata": {
    "colab": {
      "provenance": [],
      "authorship_tag": "ABX9TyP/vTk1Vrcs3nVH9tZhy7Pb",
      "include_colab_link": true
    },
    "kernelspec": {
      "name": "python3",
      "display_name": "Python 3"
    },
    "language_info": {
      "name": "python"
    }
  },
  "cells": [
    {
      "cell_type": "markdown",
      "metadata": {
        "id": "view-in-github",
        "colab_type": "text"
      },
      "source": [
        "<a href=\"https://colab.research.google.com/github/marcekovam/data_science_practicum/blob/main/HW_AI.ipynb\" target=\"_parent\"><img src=\"https://colab.research.google.com/assets/colab-badge.svg\" alt=\"Open In Colab\"/></a>"
      ]
    },
    {
      "cell_type": "code",
      "execution_count": 1,
      "metadata": {
        "id": "J2qETXhCg76q"
      },
      "outputs": [],
      "source": [
        "pip install -qq openai tiktoken"
      ]
    },
    {
      "cell_type": "code",
      "source": [
        "import openai\n",
        "import tiktoken\n",
        "import datetime"
      ],
      "metadata": {
        "id": "X_KGCWWnhChh"
      },
      "execution_count": 2,
      "outputs": []
    },
    {
      "cell_type": "code",
      "source": [
        "encoding = tiktoken.encoding_for_model('gpt-3.5-turbo')"
      ],
      "metadata": {
        "id": "EP9GAzaLhLB3"
      },
      "execution_count": 3,
      "outputs": []
    },
    {
      "cell_type": "code",
      "source": [
        "prompt_text = '''From the text below, answer these questions:\n",
        "              What is the name of the event mentioned in the text?\n",
        "              What is the date of the event mentioned in the text?\n",
        "              Answer ONLY with key words.\n",
        "              Do not use whole sentences.\n",
        "              Do not specify which answer is the name and which is the date.\n",
        "              Write the date in format 'YYYY MM DD'.\n",
        "              Write your responses in separate lines.\n",
        "              If you don't know the name of the event, respond 'None'.\n",
        "              If you don't know the date, respond 'None'.\n",
        "              Thank you.'''\n",
        "event_text = '''Úvodní slovo\n",
        "              Vážené kolegyně, vážení kolegové,\n",
        "\n",
        "              srdečně Vás zveme na 13. ročník Open space konference o e-learningu IS MU, která se koná pod záštitou rektora Masarykovy univerzity.\n",
        "\n",
        "              Ústředním tématem konference je sdílení zkušeností s moderními trendy a technologiemi v e-learningu. Dozvíte se nejen pozitiva, která novinky do výuky mohou vnášet, ale také rizika, které s sebou mohou některé trendy přinést. Zprostředkujeme Vám praktické tipy, jak v interaktivní výuce nenarušovat pravidla pro ochranu osobních údajů, informace o umělé inteligenci ve výuce (ChatGPT a další nástroje) či možnosti simulační medicíny v SIMU.\n",
        "\n",
        "              Termín konání:\n",
        "              středa 13. září 2023, 8.30\n",
        "              Místo konání:\n",
        "              Fakulta informatiky, Botanická 68a, Brno\n",
        "              Tematické okruhy\n",
        "              Moderní trendy a nové technologie ve výuce nejsou černobílé. Na jedné straně přináší do výuky nové příležitosti, možnosti a inovace, na straně druhé je potřeba si přiznat i některé jejich stinné či kontroverzní stránky a mít na paměti rizika. O praktické zkušenosti a rady se v rámci příspěvků podělí vyučující i zaměstnanci MU, kteří budou mluvit o:\n",
        "\n",
        "              umělé inteligenci (ChatGPT) ve výuce, jejích možnostech i omezeních,\n",
        "              riziku při používání Socrative, Padlet, DirectPoll z pohledu ochrany osobních údajů,\n",
        "              novém algoritmu v nástroji pro odhalování plagiátů,\n",
        "              možnostech, které přináší výuka v simulačním centru,\n",
        "              podcastech ve výuce. '''\n",
        "\n",
        "((len(encoding.encode(prompt_text)) + len(encoding.encode(event_text))) / 1000 * 0.0010) * 23   # price of prompt"
      ],
      "metadata": {
        "colab": {
          "base_uri": "https://localhost:8080/"
        },
        "id": "HEKCPAFklvkW",
        "outputId": "cc6a412b-f223-4f37-9ae9-85fa4bd9945e"
      },
      "execution_count": 22,
      "outputs": [
        {
          "output_type": "execute_result",
          "data": {
            "text/plain": [
              "0.016215"
            ]
          },
          "metadata": {},
          "execution_count": 22
        }
      ]
    },
    {
      "cell_type": "code",
      "source": [
        "from openai import OpenAI\n",
        "\n",
        "client = OpenAI(\n",
        "    api_key=\"...\",\n",
        ")"
      ],
      "metadata": {
        "id": "ZoI_wJlChRR8"
      },
      "execution_count": 10,
      "outputs": []
    },
    {
      "cell_type": "code",
      "source": [
        "c = client.chat.completions.create(\n",
        "    messages=[\n",
        "        {\"role\": \"user\",\n",
        "         \"content\": prompt_text},\n",
        "        {\"role\": \"user\",\n",
        "         \"content\": event_text}\n",
        "    ],\n",
        "    model=\"gpt-3.5-turbo\",\n",
        ")"
      ],
      "metadata": {
        "id": "jX0JsVf7hSw-"
      },
      "execution_count": 23,
      "outputs": []
    },
    {
      "cell_type": "code",
      "source": [
        "(c.usage.prompt_tokens / 1000 * 0.0010 + c.usage.completion_tokens / 1000 * 0.0020) * 23"
      ],
      "metadata": {
        "id": "vieTvQdJkWfO",
        "colab": {
          "base_uri": "https://localhost:8080/"
        },
        "outputId": "b3e6ef77-d280-48a2-f98c-7bff41d1abac"
      },
      "execution_count": 24,
      "outputs": [
        {
          "output_type": "execute_result",
          "data": {
            "text/plain": [
              "0.017526"
            ]
          },
          "metadata": {},
          "execution_count": 24
        }
      ]
    },
    {
      "cell_type": "code",
      "source": [
        "c.choices[0].message.content"
      ],
      "metadata": {
        "colab": {
          "base_uri": "https://localhost:8080/",
          "height": 35
        },
        "id": "tb4EkFEIB7Rl",
        "outputId": "59e025d2-88f9-4d48-b075-5f143b0fe6eb"
      },
      "execution_count": 25,
      "outputs": [
        {
          "output_type": "execute_result",
          "data": {
            "text/plain": [
              "'13. ročník Open space konference o e-learningu IS MU\\n2023 09 13'"
            ],
            "application/vnd.google.colaboratory.intrinsic+json": {
              "type": "string"
            }
          },
          "metadata": {},
          "execution_count": 25
        }
      ]
    },
    {
      "cell_type": "code",
      "source": [
        "name, date = c.choices[0].message.content.split('\\n')\n",
        "print(name)\n",
        "print(date)"
      ],
      "metadata": {
        "colab": {
          "base_uri": "https://localhost:8080/"
        },
        "id": "lVmRVSNJvnbX",
        "outputId": "43d43d9c-c3d2-43b6-e8ca-966f22371a93"
      },
      "execution_count": 26,
      "outputs": [
        {
          "output_type": "stream",
          "name": "stdout",
          "text": [
            "13. ročník Open space konference o e-learningu IS MU\n",
            "2023 09 13\n"
          ]
        }
      ]
    },
    {
      "cell_type": "code",
      "source": [
        "if name == 'None':\n",
        "  name = None\n",
        "if date == 'None':\n",
        "  date = None\n",
        "else:\n",
        "  year, month, day = [int(i) for i in date.split()]"
      ],
      "metadata": {
        "id": "CmCVWLTKzTwk"
      },
      "execution_count": 27,
      "outputs": []
    },
    {
      "cell_type": "code",
      "source": [
        "date = datetime.date(year, month, day)"
      ],
      "metadata": {
        "id": "l47gELhizCTm"
      },
      "execution_count": 28,
      "outputs": []
    },
    {
      "cell_type": "code",
      "source": [
        "print(name)\n",
        "print(date)"
      ],
      "metadata": {
        "colab": {
          "base_uri": "https://localhost:8080/"
        },
        "id": "Ks1VOUg0IaLn",
        "outputId": "e371bf9e-dc06-4df6-c682-c8ff0500c25a"
      },
      "execution_count": 29,
      "outputs": [
        {
          "output_type": "stream",
          "name": "stdout",
          "text": [
            "13. ročník Open space konference o e-learningu IS MU\n",
            "2023-09-13\n"
          ]
        }
      ]
    }
  ]
}