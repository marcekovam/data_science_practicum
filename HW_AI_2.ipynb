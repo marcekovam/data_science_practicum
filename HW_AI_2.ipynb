{
  "nbformat": 4,
  "nbformat_minor": 0,
  "metadata": {
    "colab": {
      "provenance": [],
      "authorship_tag": "ABX9TyPDugh9+SvqvdOonmg85X6O",
      "include_colab_link": true
    },
    "kernelspec": {
      "name": "python3",
      "display_name": "Python 3"
    },
    "language_info": {
      "name": "python"
    }
  },
  "cells": [
    {
      "cell_type": "markdown",
      "metadata": {
        "id": "view-in-github",
        "colab_type": "text"
      },
      "source": [
        "<a href=\"https://colab.research.google.com/github/marcekovam/data_science_practicum/blob/main/HW_AI_2.ipynb\" target=\"_parent\"><img src=\"https://colab.research.google.com/assets/colab-badge.svg\" alt=\"Open In Colab\"/></a>"
      ]
    },
    {
      "cell_type": "code",
      "execution_count": null,
      "metadata": {
        "id": "J2qETXhCg76q"
      },
      "outputs": [],
      "source": [
        "pip install -qq openai tiktoken"
      ]
    },
    {
      "cell_type": "code",
      "source": [
        "import openai\n",
        "import tiktoken\n",
        "import datetime\n",
        "from openai import OpenAI"
      ],
      "metadata": {
        "id": "X_KGCWWnhChh"
      },
      "execution_count": 6,
      "outputs": []
    },
    {
      "cell_type": "code",
      "source": [
        "encoding = tiktoken.encoding_for_model('gpt-3.5-turbo')"
      ],
      "metadata": {
        "id": "EP9GAzaLhLB3"
      },
      "execution_count": 7,
      "outputs": []
    },
    {
      "cell_type": "markdown",
      "source": [
        "An example of input text regarding an event:"
      ],
      "metadata": {
        "id": "yWdRGzIRzvEg"
      }
    },
    {
      "cell_type": "code",
      "source": [
        "event_text = '''Úvodní slovo\n",
        "              Vážené kolegyně, vážení kolegové,\n",
        "\n",
        "              srdečně Vás zveme na 13. ročník Open space konference o e-learningu IS MU, která se koná pod záštitou rektora Masarykovy univerzity.\n",
        "\n",
        "              Ústředním tématem konference je sdílení zkušeností s moderními trendy a technologiemi v e-learningu. Dozvíte se nejen pozitiva, která novinky do výuky mohou vnášet, ale také rizika, které s sebou mohou některé trendy přinést. Zprostředkujeme Vám praktické tipy, jak v interaktivní výuce nenarušovat pravidla pro ochranu osobních údajů, informace o umělé inteligenci ve výuce (ChatGPT a další nástroje) či možnosti simulační medicíny v SIMU.\n",
        "\n",
        "              Termín konání:\n",
        "              středa 13. září 2023, 8.30\n",
        "              Místo konání:\n",
        "              Fakulta informatiky, Botanická 68a, Brno\n",
        "              Tematické okruhy\n",
        "              Moderní trendy a nové technologie ve výuce nejsou černobílé. Na jedné straně přináší do výuky nové příležitosti, možnosti a inovace, na straně druhé je potřeba si přiznat i některé jejich stinné či kontroverzní stránky a mít na paměti rizika. O praktické zkušenosti a rady se v rámci příspěvků podělí vyučující i zaměstnanci MU, kteří budou mluvit o:\n",
        "\n",
        "              umělé inteligenci (ChatGPT) ve výuce, jejích možnostech i omezeních,\n",
        "              riziku při používání Socrative, Padlet, DirectPoll z pohledu ochrany osobních údajů,\n",
        "              novém algoritmu v nástroji pro odhalování plagiátů,\n",
        "              možnostech, které přináší výuka v simulačním centru,\n",
        "              podcastech ve výuce. '''"
      ],
      "metadata": {
        "id": "HEKCPAFklvkW"
      },
      "execution_count": 8,
      "outputs": []
    },
    {
      "cell_type": "markdown",
      "source": [
        "Insert **API key** into the function to make to make it work.\n",
        "Output is in the form of dictionary but it can be easily changed into tuple.\n",
        "If the the input text is larger than 10000 characters, a ```ValueError``` will be raised."
      ],
      "metadata": {
        "id": "CbbCjpzG0wpF"
      }
    },
    {
      "cell_type": "code",
      "source": [
        "def event_name_date(event_text):\n",
        "  if type(event_text) != str:\n",
        "      raise Exception(\"The input is not a string.\")\n",
        "  elif len(event_text) >= 10000:\n",
        "      raise ValueError(\"The input contains more than 10000 characters.\")\n",
        "  else:\n",
        "    try:\n",
        "      client = OpenAI(\n",
        "          api_key=\"...\",   # API key\n",
        "      )\n",
        "      prompt_text = '''From the text below, answer these questions:\n",
        "                    What is the name of the event mentioned in the text?\n",
        "                    What is the date of the event mentioned in the text?\n",
        "                    Answer ONLY with key words.\n",
        "                    Do not use whole sentences.\n",
        "                    Do not specify which answer is the name and which is the date.\n",
        "                    Write the date in format 'YYYY MM DD'.\n",
        "                    Write your responses in separate lines.\n",
        "                    If you don't know the name of the event, respond 'None'.\n",
        "                    If you don't know the date, respond 'None'.\n",
        "                    Thank you.'''\n",
        "      c = client.chat.completions.create(\n",
        "          messages=[\n",
        "              {\"role\": \"user\",\n",
        "              \"content\": prompt_text},\n",
        "              {\"role\": \"user\",\n",
        "              \"content\": event_text}\n",
        "          ],\n",
        "          model=\"gpt-3.5-turbo\",\n",
        "      )\n",
        "      price = (c.usage.prompt_tokens / 1000 * 0.0010 + c.usage.completion_tokens / 1000 * 0.0020) * 23\n",
        "      name, date = c.choices[0].message.content.split('\\n')\n",
        "      if name == 'None':\n",
        "        name = None\n",
        "      if date == 'None':\n",
        "        date = None\n",
        "      else:\n",
        "        year, month, day = [int(i) for i in date.split()]\n",
        "        date = datetime.date(year, month, day)\n",
        "      # If you prefer tuple as output (without price), uncomment following line:\n",
        "      # return name, date\n",
        "      d = dict();\n",
        "      d['name'] = name\n",
        "      d['date'] = date\n",
        "      d['price'] = price\n",
        "      return d\n",
        "    except:\n",
        "      print(\"Exception happened.\")"
      ],
      "metadata": {
        "id": "jX0JsVf7hSw-"
      },
      "execution_count": 10,
      "outputs": []
    },
    {
      "cell_type": "code",
      "source": [
        "d = event_name_date(event_text)"
      ],
      "metadata": {
        "id": "Ks1VOUg0IaLn"
      },
      "execution_count": 12,
      "outputs": []
    },
    {
      "cell_type": "code",
      "source": [
        "print(d['name'])\n",
        "print(d['date'])\n",
        "print(d['price'])"
      ],
      "metadata": {
        "colab": {
          "base_uri": "https://localhost:8080/"
        },
        "id": "YYRnzjla-Mt9",
        "outputId": "c6e403d0-694e-4b89-d820-b2b5e40190c1"
      },
      "execution_count": 13,
      "outputs": [
        {
          "output_type": "stream",
          "name": "stdout",
          "text": [
            "Open space konference o e-learningu IS MU\n",
            "2023-09-13\n",
            "0.017227\n"
          ]
        }
      ]
    }
  ]
}